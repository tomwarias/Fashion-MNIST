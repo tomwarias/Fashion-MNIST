{
 "cells": [
  {
   "cell_type": "markdown",
   "id": "53721da0",
   "metadata": {},
   "source": [
    "## Step 1: Importing Libraries"
   ]
  },
  {
   "cell_type": "code",
   "execution_count": null,
   "metadata": {
    "id": "NeFkown6qk9F"
   },
   "outputs": [],
   "source": [
    "# Import necessary libraries for the project\n",
    "\n",
    "from tensorflow.keras import Sequential\n",
    "from tensorflow.keras.layers import Dense, Conv2D, Flatten, Dropout, MaxPool2D\n",
    "from tensorflow.keras.optimizers import Adam\n",
    "\n",
    "# Processing and Visualization Tools\n",
    "import matplotlib.pyplot as plt\n",
    "from sklearn.model_selection import train_test_split\n",
    "import os\n",
    "import datetime"
   ]
  },
  {
   "cell_type": "markdown",
   "id": "fc0c704c",
   "metadata": {},
   "source": [
    "## Step 1: Importing Libraries"
   ]
  },
  {
   "cell_type": "code",
   "execution_count": null,
   "metadata": {
    "id": "nvAb6_0xnBRX"
   },
   "outputs": [],
   "source": [
    "# Import necessary libraries for the project\n",
    "\n",
    "from tensorflow.keras.datasets import fashion_mnist as dataset"
   ]
  },
  {
   "cell_type": "markdown",
   "id": "8275cd7e",
   "metadata": {},
   "source": [
    "## Step 2: Loading the Dataset"
   ]
  },
  {
   "cell_type": "code",
   "execution_count": null,
   "metadata": {
    "colab": {
     "base_uri": "https://localhost:8080/"
    },
    "id": "7_xF9rR-rNFz",
    "outputId": "24bd2a6b-aa50-468b-af12-c8ef70b8ce77"
   },
   "outputs": [
    {
     "name": "stdout",
     "output_type": "stream",
     "text": [
      "Downloading data from https://storage.googleapis.com/tensorflow/tf-keras-datasets/train-labels-idx1-ubyte.gz\n",
      "32768/29515 [=================================] - 0s 0us/step\n",
      "Downloading data from https://storage.googleapis.com/tensorflow/tf-keras-datasets/train-images-idx3-ubyte.gz\n",
      "26427392/26421880 [==============================] - 0s 0us/step\n",
      "Downloading data from https://storage.googleapis.com/tensorflow/tf-keras-datasets/t10k-labels-idx1-ubyte.gz\n",
      "8192/5148 [===============================================] - 0s 0us/step\n",
      "Downloading data from https://storage.googleapis.com/tensorflow/tf-keras-datasets/t10k-images-idx3-ubyte.gz\n",
      "4423680/4422102 [==============================] - 0s 0us/step\n"
     ]
    }
   ],
   "source": [
    "# Load the dataset into memory\n",
    "(X_train, y_train), (X_test, y_test) = dataset.load_data()"
   ]
  },
  {
   "cell_type": "code",
   "execution_count": null,
   "metadata": {
    "colab": {
     "base_uri": "https://localhost:8080/"
    },
    "id": "kFlj0AvvrqIW",
    "outputId": "1cfd7751-fb51-47eb-90ea-4b5ed442f52b"
   },
   "outputs": [
    {
     "name": "stdout",
     "output_type": "stream",
     "text": [
      "The shape of the X_train is (60000, 28, 28)\n",
      "The shape of the y_train is (60000,)\n",
      "The shape of the X_test is (10000, 28, 28)\n",
      "The shape of the y_test is (10000,)\n"
     ]
    }
   ],
   "source": [
    "print(\"The shape of the X_train is {}\".format( X_train.shape))\n",
    "print(\"The shape of the y_train is {}\".format(y_train.shape))\n",
    "print(\"The shape of the X_test is {}\".format(X_test.shape))\n",
    "print(\"The shape of the y_test is {}\".format(y_test.shape))"
   ]
  },
  {
   "cell_type": "markdown",
   "id": "d0e902fa",
   "metadata": {},
   "source": [
    "## Step 3: Visualizing Data/Results"
   ]
  },
  {
   "cell_type": "code",
   "execution_count": null,
   "metadata": {
    "colab": {
     "base_uri": "https://localhost:8080/",
     "height": 298
    },
    "id": "Ymg4FvbDsmbO",
    "outputId": "0568085d-7686-48ad-a40f-1d038544891f"
   },
   "outputs": [
    {
     "name": "stdout",
     "output_type": "stream",
     "text": [
      "The First Image has the label 9\n"
     ]
    },
    {
     "data": {
      "image/png": "[encoded data removed]",
      "text/plain": [
       "<Figure size 432x288 with 2 Axes>"
      ]
     },
     "metadata": {
      "needs_background": "light",
      "tags": []
     },
     "output_type": "display_data"
    }
   ],
   "source": [
    "# Display images and predictions\n",
    "\n",
    "print(\"The First Image has the label {}\".format(y_train[0]))\n",
    "plt.imshow(X_train[0])\n",
    "plt.colorbar()\n",
    "plt.title('Visualization of the Dataset')\n",
    "plt.show()"
   ]
  },
  {
   "cell_type": "code",
   "execution_count": null,
   "metadata": {
    "id": "e3qqMcOFvr5b"
   },
   "outputs": [],
   "source": [
    "\n",
    "X_train = X_train/255.0\n",
    "X_test = X_test/ 255.0"
   ]
  },
  {
   "cell_type": "markdown",
   "id": "101c8ce8",
   "metadata": {},
   "source": [
    "## Step 4: Visualizing Data/Results"
   ]
  },
  {
   "cell_type": "code",
   "execution_count": null,
   "metadata": {
    "colab": {
     "base_uri": "https://localhost:8080/",
     "height": 281
    },
    "id": "Bevkendhuzsq",
    "outputId": "a33172e7-32fc-4e5c-cff8-dcb23163b345"
   },
   "outputs": [
    {
     "data": {
      "image/png": "[encoded data removed]",
      "text/plain": [
       "<Figure size 432x288 with 2 Axes>"
      ]
     },
     "metadata": {
      "needs_background": "light",
      "tags": []
     },
     "output_type": "display_data"
    }
   ],
   "source": [
    "# Display images and predictions\n",
    "\n",
    "plt.imshow(X_train[0])\n",
    "plt.colorbar()\n",
    "plt.title('Visualization of the Dataset')\n",
    "plt.show()"
   ]
  },
  {
   "cell_type": "code",
   "execution_count": null,
   "metadata": {
    "id": "-yiNywWqP610"
   },
   "outputs": [],
   "source": [
    "\n",
    "X_train, X_valid, y_train, y_valid = train_test_split(X_train, y_train, test_size = 0.2, random_state=0)"
   ]
  },
  {
   "cell_type": "code",
   "execution_count": null,
   "metadata": {
    "colab": {
     "base_uri": "https://localhost:8080/"
    },
    "id": "F8HClxG_4Phw",
    "outputId": "10b5b5c1-b8e5-4ac9-cce0-722c6b6f9691"
   },
   "outputs": [
    {
     "name": "stdout",
     "output_type": "stream",
     "text": [
      "The shape of the X_train is (48000, 28, 28)\n",
      "The shape of the y_train is (48000,)\n",
      "The shape of the X_valid is (12000, 28, 28)\n",
      "The shape of the y_valid is (12000,)\n"
     ]
    }
   ],
   "source": [
    "print(\"The shape of the X_train is {}\".format(X_train.shape))\n",
    "print(\"The shape of the y_train is {}\".format(y_train.shape))\n",
    "print(\"The shape of the X_valid is {}\".format(X_valid.shape))\n",
    "print(\"The shape of the y_valid is {}\".format(y_valid.shape))"
   ]
  },
  {
   "cell_type": "code",
   "execution_count": null,
   "metadata": {
    "id": "OzSYPaupAd9d"
   },
   "outputs": [],
   "source": [
    "\n",
    "X_train = X_train.reshape(X_train.shape[0], *(28,28,1))\n",
    "X_valid = X_valid.reshape(X_valid.shape[0], *(28,28,1))\n",
    "X_test = X_test.reshape(X_test.shape[0], *(28,28,1))"
   ]
  },
  {
   "cell_type": "code",
   "execution_count": null,
   "metadata": {
    "colab": {
     "base_uri": "https://localhost:8080/"
    },
    "id": "DKd6hjhnBnUO",
    "outputId": "8cb19a67-076a-4f2b-95ef-04461d0e1d39"
   },
   "outputs": [
    {
     "name": "stdout",
     "output_type": "stream",
     "text": [
      "The shape of the X_train is (48000, 28, 28, 1)\n",
      "The shape of the X_valid is (12000, 28, 28, 1)\n",
      "The shape of the X_test is (10000, 28, 28, 1)\n"
     ]
    }
   ],
   "source": [
    "\n",
    "print(\"The shape of the X_train is {}\".format(X_train.shape))\n",
    "print(\"The shape of the X_valid is {}\".format(X_valid.shape))\n",
    "print(\"The shape of the X_test is {}\".format(X_test.shape))"
   ]
  },
  {
   "cell_type": "markdown",
   "id": "68249e2f",
   "metadata": {},
   "source": [
    "## Step 5: Creating the Model"
   ]
  },
  {
   "cell_type": "code",
   "execution_count": null,
   "metadata": {
    "id": "UW-H49B05cEb"
   },
   "outputs": [],
   "source": [
    "# Define the neural network architecture\n",
    "\n",
    "\n",
    "CNN_model = Sequential([\n",
    "                        \n",
    "                        Conv2D(filters=32,kernel_size=(3,3),\n",
    "                               activation=tf.keras.layers.LeakyReLU(alpha=0.01),\n",
    "                               kernel_initializer='he_normal',\n",
    "                               input_shape=(28,28,1)),\n",
    "                        MaxPool2D(pool_size=(2,2)),\n",
    "                        Dropout(0.5),\n",
    "                        Conv2D(filters=64,kernel_size=(3,3),\n",
    "                               kernel_initializer='he_normal',\n",
    "                               activation=tf.keras.layers.LeakyReLU(alpha=0.01)),\n",
    "                        MaxPool2D(pool_size=(2,2)),\n",
    "                        Dropout(0.4),\n",
    "                        Conv2D(filters=128,kernel_size=(3,3),\n",
    "                               kernel_initializer='he_normal',\n",
    "                               activation=tf.keras.layers.LeakyReLU(alpha=0.01)),\n",
    "                        MaxPool2D(pool_size=(2,2)),\n",
    "                        Flatten(),\n",
    "                        Dense(128, activation=tf.keras.layers.LeakyReLU(alpha=0.001)),\n",
    "                        Dense(64, activation=tf.keras.layers.LeakyReLU(alpha=0.001)),\n",
    "                        Dense(32, activation='relu'),\n",
    "                        Dense(10, 'softmax')\n",
    "])"
   ]
  },
  {
   "cell_type": "markdown",
   "id": "b48d140b",
   "metadata": {},
   "source": [
    "## Step 6: Compiling the Model"
   ]
  },
  {
   "cell_type": "code",
   "execution_count": null,
   "metadata": {
    "id": "CR-nFCwn1iKM"
   },
   "outputs": [],
   "source": [
    "# Prepare the model for training by setting the loss function, optimizer, and metrics\n",
    "\n",
    "loss_function = 'sparse_categorical_crossentropy'\n",
    "LEARNING_RATE = 0.001\n",
    "CNN_model.compile(\n",
    "    loss = loss_function,\n",
    "    optimizer = Adam(lr=LEARNING_RATE),\n",
    "    metrics = [\"accuracy\"]\n",
    ")"
   ]
  },
  {
   "cell_type": "code",
   "execution_count": null,
   "metadata": {
    "id": "EeqMzfYf6azO"
   },
   "outputs": [],
   "source": [
    "\n",
    "logdir = os.path.join(\"logs\", datetime.datetime.now().strftime(\"%Y%m%d-%H%M%S\"))\n",
    "\n",
    "\n",
    "tensorboard_callback = tf.keras.callbacks.TensorBoard(logdir, histogram_freq=1)"
   ]
  },
  {
   "cell_type": "markdown",
   "id": "2806f88f",
   "metadata": {},
   "source": [
    "## Step 7: Training the Model"
   ]
  },
  {
   "cell_type": "code",
   "execution_count": null,
   "metadata": {
    "colab": {
     "base_uri": "https://localhost:8080/"
    },
    "id": "w9F8y-eC-yH9",
    "outputId": "4a244267-755c-47f6-b70f-0f9903b76086"
   },
   "outputs": [
    {
     "name": "stdout",
     "output_type": "stream",
     "text": [
      "Epoch 1/100\n",
      "1500/1500 [==============================] - 17s 7ms/step - loss: 1.0710 - accuracy: 0.5904 - val_loss: 0.5874 - val_accuracy: 0.7906\n",
      "Epoch 2/100\n",
      "1500/1500 [==============================] - 10s 7ms/step - loss: 0.5861 - accuracy: 0.7781 - val_loss: 0.4853 - val_accuracy: 0.8283\n",
      "Epoch 3/100\n",
      "1500/1500 [==============================] - 10s 7ms/step - loss: 0.5040 - accuracy: 0.8113 - val_loss: 0.4267 - val_accuracy: 0.8468\n",
      "Epoch 4/100\n",
      "1500/1500 [==============================] - 10s 7ms/step - loss: 0.4526 - accuracy: 0.8310 - val_loss: 0.4039 - val_accuracy: 0.8506\n",
      "Epoch 5/100\n",
      "1500/1500 [==============================] - 10s 7ms/step - loss: 0.4240 - accuracy: 0.8431 - val_loss: 0.3671 - val_accuracy: 0.8655\n",
      "Epoch 6/100\n",
      "1500/1500 [==============================] - 10s 7ms/step - loss: 0.3990 - accuracy: 0.8516 - val_loss: 0.3496 - val_accuracy: 0.8737\n",
      "Epoch 7/100\n",
      "1500/1500 [==============================] - 10s 7ms/step - loss: 0.3901 - accuracy: 0.8565 - val_loss: 0.3521 - val_accuracy: 0.8690\n",
      "Epoch 8/100\n",
      "1500/1500 [==============================] - 10s 7ms/step - loss: 0.3758 - accuracy: 0.8600 - val_loss: 0.3468 - val_accuracy: 0.8677\n",
      "Epoch 9/100\n",
      "1500/1500 [==============================] - 10s 7ms/step - loss: 0.3657 - accuracy: 0.8643 - val_loss: 0.3419 - val_accuracy: 0.8725\n",
      "Epoch 10/100\n",
      "1500/1500 [==============================] - 11s 7ms/step - loss: 0.3581 - accuracy: 0.8674 - val_loss: 0.3311 - val_accuracy: 0.8772\n",
      "Epoch 11/100\n",
      "1500/1500 [==============================] - 10s 7ms/step - loss: 0.3505 - accuracy: 0.8690 - val_loss: 0.3184 - val_accuracy: 0.8838\n",
      "Epoch 12/100\n",
      "1500/1500 [==============================] - 10s 7ms/step - loss: 0.3458 - accuracy: 0.8717 - val_loss: 0.3175 - val_accuracy: 0.8802\n",
      "Epoch 13/100\n",
      "1500/1500 [==============================] - 10s 7ms/step - loss: 0.3410 - accuracy: 0.8739 - val_loss: 0.3097 - val_accuracy: 0.8831\n",
      "Epoch 14/100\n",
      "1500/1500 [==============================] - 10s 7ms/step - loss: 0.3346 - accuracy: 0.8750 - val_loss: 0.3055 - val_accuracy: 0.8864\n",
      "Epoch 15/100\n",
      "1500/1500 [==============================] - 10s 7ms/step - loss: 0.3279 - accuracy: 0.8769 - val_loss: 0.3007 - val_accuracy: 0.8865\n",
      "Epoch 16/100\n",
      "1500/1500 [==============================] - 10s 7ms/step - loss: 0.3284 - accuracy: 0.8793 - val_loss: 0.3211 - val_accuracy: 0.8806\n",
      "Epoch 17/100\n",
      "1500/1500 [==============================] - 10s 7ms/step - loss: 0.3197 - accuracy: 0.8796 - val_loss: 0.3013 - val_accuracy: 0.8873\n",
      "Epoch 18/100\n",
      "1500/1500 [==============================] - 10s 7ms/step - loss: 0.3192 - accuracy: 0.8793 - val_loss: 0.2996 - val_accuracy: 0.8892\n",
      "Epoch 19/100\n",
      "1500/1500 [==============================] - 10s 7ms/step - loss: 0.3130 - accuracy: 0.8833 - val_loss: 0.3093 - val_accuracy: 0.8835\n",
      "Epoch 20/100\n",
      "1500/1500 [==============================] - 10s 7ms/step - loss: 0.3181 - accuracy: 0.8816 - val_loss: 0.3101 - val_accuracy: 0.8830\n",
      "Epoch 21/100\n",
      "1500/1500 [==============================] - 10s 7ms/step - loss: 0.3057 - accuracy: 0.8866 - val_loss: 0.3037 - val_accuracy: 0.8840\n",
      "Epoch 22/100\n",
      "1500/1500 [==============================] - 10s 7ms/step - loss: 0.3007 - accuracy: 0.8860 - val_loss: 0.2970 - val_accuracy: 0.8867\n",
      "Epoch 23/100\n",
      "1500/1500 [==============================] - 10s 7ms/step - loss: 0.2988 - accuracy: 0.8879 - val_loss: 0.2979 - val_accuracy: 0.8857\n",
      "Epoch 24/100\n",
      "1500/1500 [==============================] - 10s 7ms/step - loss: 0.3030 - accuracy: 0.8868 - val_loss: 0.2931 - val_accuracy: 0.8902\n",
      "Epoch 25/100\n",
      "1500/1500 [==============================] - 10s 7ms/step - loss: 0.2944 - accuracy: 0.8900 - val_loss: 0.3097 - val_accuracy: 0.8848\n",
      "Epoch 26/100\n",
      "1500/1500 [==============================] - 10s 7ms/step - loss: 0.2939 - accuracy: 0.8883 - val_loss: 0.2852 - val_accuracy: 0.8921\n",
      "Epoch 27/100\n",
      "1500/1500 [==============================] - 10s 7ms/step - loss: 0.2988 - accuracy: 0.8900 - val_loss: 0.3008 - val_accuracy: 0.8854\n",
      "Epoch 28/100\n",
      "1500/1500 [==============================] - 10s 7ms/step - loss: 0.2992 - accuracy: 0.8889 - val_loss: 0.2903 - val_accuracy: 0.8915\n",
      "Epoch 29/100\n",
      "1500/1500 [==============================] - 10s 7ms/step - loss: 0.2960 - accuracy: 0.8865 - val_loss: 0.2915 - val_accuracy: 0.8892\n",
      "Epoch 30/100\n",
      "1500/1500 [==============================] - 10s 7ms/step - loss: 0.2899 - accuracy: 0.8889 - val_loss: 0.2977 - val_accuracy: 0.8887\n",
      "Epoch 31/100\n",
      "1500/1500 [==============================] - 10s 7ms/step - loss: 0.2894 - accuracy: 0.8926 - val_loss: 0.3118 - val_accuracy: 0.8836\n",
      "Epoch 32/100\n",
      "1500/1500 [==============================] - 10s 7ms/step - loss: 0.2821 - accuracy: 0.8934 - val_loss: 0.3159 - val_accuracy: 0.8832\n",
      "Epoch 33/100\n",
      "1500/1500 [==============================] - 10s 7ms/step - loss: 0.2844 - accuracy: 0.8920 - val_loss: 0.2912 - val_accuracy: 0.8935\n",
      "Epoch 34/100\n",
      "1500/1500 [==============================] - 10s 7ms/step - loss: 0.2847 - accuracy: 0.8927 - val_loss: 0.3091 - val_accuracy: 0.8854\n",
      "Epoch 35/100\n",
      "1500/1500 [==============================] - 10s 7ms/step - loss: 0.2874 - accuracy: 0.8925 - val_loss: 0.2866 - val_accuracy: 0.8954\n",
      "Epoch 36/100\n",
      "1500/1500 [==============================] - 10s 7ms/step - loss: 0.2857 - accuracy: 0.8931 - val_loss: 0.2959 - val_accuracy: 0.8898\n",
      "Epoch 37/100\n",
      "1500/1500 [==============================] - 10s 7ms/step - loss: 0.2786 - accuracy: 0.8963 - val_loss: 0.2980 - val_accuracy: 0.8888\n",
      "Epoch 38/100\n",
      "1500/1500 [==============================] - 10s 7ms/step - loss: 0.2767 - accuracy: 0.8944 - val_loss: 0.2783 - val_accuracy: 0.8953\n",
      "Epoch 39/100\n",
      "1500/1500 [==============================] - 10s 7ms/step - loss: 0.2683 - accuracy: 0.8984 - val_loss: 0.3096 - val_accuracy: 0.8868\n",
      "Epoch 40/100\n",
      "1500/1500 [==============================] - 11s 7ms/step - loss: 0.2759 - accuracy: 0.8945 - val_loss: 0.2783 - val_accuracy: 0.8949\n",
      "Epoch 41/100\n",
      "1500/1500 [==============================] - 10s 7ms/step - loss: 0.2728 - accuracy: 0.8971 - val_loss: 0.2888 - val_accuracy: 0.8962\n",
      "Epoch 42/100\n",
      "1500/1500 [==============================] - 10s 7ms/step - loss: 0.2772 - accuracy: 0.8962 - val_loss: 0.2835 - val_accuracy: 0.8955\n",
      "Epoch 43/100\n",
      "1500/1500 [==============================] - 10s 7ms/step - loss: 0.2690 - accuracy: 0.8981 - val_loss: 0.3002 - val_accuracy: 0.8934\n",
      "Epoch 44/100\n",
      "1500/1500 [==============================] - 10s 7ms/step - loss: 0.2713 - accuracy: 0.8981 - val_loss: 0.2816 - val_accuracy: 0.8968\n",
      "Epoch 45/100\n",
      "1500/1500 [==============================] - 10s 7ms/step - loss: 0.2822 - accuracy: 0.8941 - val_loss: 0.2891 - val_accuracy: 0.8935\n",
      "Epoch 46/100\n",
      "1500/1500 [==============================] - 10s 7ms/step - loss: 0.2713 - accuracy: 0.8977 - val_loss: 0.2953 - val_accuracy: 0.8901\n",
      "Epoch 47/100\n",
      "1500/1500 [==============================] - 10s 7ms/step - loss: 0.2667 - accuracy: 0.9006 - val_loss: 0.3351 - val_accuracy: 0.8775\n",
      "Epoch 48/100\n",
      "1500/1500 [==============================] - 10s 7ms/step - loss: 0.2681 - accuracy: 0.8984 - val_loss: 0.2886 - val_accuracy: 0.8952\n",
      "Epoch 49/100\n",
      "1500/1500 [==============================] - 10s 7ms/step - loss: 0.2659 - accuracy: 0.9008 - val_loss: 0.3033 - val_accuracy: 0.8900\n",
      "Epoch 50/100\n",
      "1500/1500 [==============================] - 10s 7ms/step - loss: 0.2650 - accuracy: 0.9011 - val_loss: 0.2977 - val_accuracy: 0.8963\n",
      "Epoch 51/100\n",
      "1500/1500 [==============================] - 10s 7ms/step - loss: 0.2682 - accuracy: 0.8985 - val_loss: 0.2868 - val_accuracy: 0.8964\n",
      "Epoch 52/100\n",
      "1500/1500 [==============================] - 10s 7ms/step - loss: 0.2679 - accuracy: 0.8978 - val_loss: 0.3100 - val_accuracy: 0.8882\n",
      "Epoch 53/100\n",
      "1500/1500 [==============================] - 10s 7ms/step - loss: 0.2627 - accuracy: 0.9018 - val_loss: 0.2868 - val_accuracy: 0.8930\n",
      "Epoch 54/100\n",
      "1500/1500 [==============================] - 10s 7ms/step - loss: 0.2605 - accuracy: 0.9029 - val_loss: 0.2914 - val_accuracy: 0.8948\n",
      "Epoch 55/100\n",
      "1500/1500 [==============================] - 10s 7ms/step - loss: 0.2672 - accuracy: 0.8993 - val_loss: 0.2736 - val_accuracy: 0.9024\n",
      "Epoch 56/100\n",
      "1500/1500 [==============================] - 10s 7ms/step - loss: 0.2697 - accuracy: 0.8971 - val_loss: 0.2788 - val_accuracy: 0.8998\n",
      "Epoch 57/100\n",
      "1500/1500 [==============================] - 10s 7ms/step - loss: 0.2606 - accuracy: 0.9016 - val_loss: 0.2948 - val_accuracy: 0.8899\n",
      "Epoch 58/100\n",
      "1500/1500 [==============================] - 10s 7ms/step - loss: 0.2614 - accuracy: 0.9026 - val_loss: 0.2790 - val_accuracy: 0.9005\n",
      "Epoch 59/100\n",
      "1500/1500 [==============================] - 10s 7ms/step - loss: 0.2639 - accuracy: 0.9007 - val_loss: 0.2818 - val_accuracy: 0.8984\n",
      "Epoch 60/100\n",
      "1500/1500 [==============================] - 10s 7ms/step - loss: 0.2560 - accuracy: 0.9024 - val_loss: 0.2951 - val_accuracy: 0.8860\n",
      "Epoch 61/100\n",
      "1500/1500 [==============================] - 10s 7ms/step - loss: 0.2536 - accuracy: 0.9036 - val_loss: 0.2835 - val_accuracy: 0.8983\n",
      "Epoch 62/100\n",
      "1500/1500 [==============================] - 10s 7ms/step - loss: 0.2584 - accuracy: 0.9029 - val_loss: 0.2821 - val_accuracy: 0.8974\n",
      "Epoch 63/100\n",
      "1500/1500 [==============================] - 10s 7ms/step - loss: 0.2524 - accuracy: 0.9060 - val_loss: 0.2803 - val_accuracy: 0.8968\n",
      "Epoch 64/100\n",
      "1500/1500 [==============================] - 10s 7ms/step - loss: 0.2581 - accuracy: 0.9052 - val_loss: 0.2787 - val_accuracy: 0.9015\n",
      "Epoch 65/100\n",
      "1500/1500 [==============================] - 11s 7ms/step - loss: 0.2555 - accuracy: 0.9033 - val_loss: 0.2922 - val_accuracy: 0.8920\n",
      "Epoch 66/100\n",
      "1500/1500 [==============================] - 10s 7ms/step - loss: 0.2542 - accuracy: 0.9042 - val_loss: 0.2862 - val_accuracy: 0.8973\n",
      "Epoch 67/100\n",
      "1500/1500 [==============================] - 10s 7ms/step - loss: 0.2462 - accuracy: 0.9080 - val_loss: 0.2764 - val_accuracy: 0.9030\n",
      "Epoch 68/100\n",
      "1500/1500 [==============================] - 10s 7ms/step - loss: 0.2508 - accuracy: 0.9074 - val_loss: 0.2806 - val_accuracy: 0.8977\n",
      "Epoch 69/100\n",
      "1500/1500 [==============================] - 10s 7ms/step - loss: 0.2546 - accuracy: 0.9057 - val_loss: 0.2819 - val_accuracy: 0.9006\n",
      "Epoch 70/100\n",
      "1500/1500 [==============================] - 11s 7ms/step - loss: 0.2513 - accuracy: 0.9057 - val_loss: 0.2695 - val_accuracy: 0.9023\n",
      "Epoch 71/100\n",
      "1500/1500 [==============================] - 10s 7ms/step - loss: 0.2492 - accuracy: 0.9039 - val_loss: 0.3025 - val_accuracy: 0.8900\n",
      "Epoch 72/100\n",
      "1500/1500 [==============================] - 10s 7ms/step - loss: 0.2534 - accuracy: 0.9037 - val_loss: 0.2747 - val_accuracy: 0.9038\n",
      "Epoch 73/100\n",
      "1500/1500 [==============================] - 10s 7ms/step - loss: 0.2501 - accuracy: 0.9054 - val_loss: 0.3630 - val_accuracy: 0.8646\n",
      "Epoch 74/100\n",
      "1500/1500 [==============================] - 10s 7ms/step - loss: 0.2750 - accuracy: 0.8974 - val_loss: 0.2811 - val_accuracy: 0.9028\n",
      "Epoch 75/100\n",
      "1500/1500 [==============================] - 10s 7ms/step - loss: 0.2469 - accuracy: 0.9078 - val_loss: 0.2883 - val_accuracy: 0.8981\n",
      "Epoch 76/100\n",
      "1500/1500 [==============================] - 10s 7ms/step - loss: 0.2450 - accuracy: 0.9087 - val_loss: 0.2884 - val_accuracy: 0.8981\n",
      "Epoch 77/100\n",
      "1500/1500 [==============================] - 10s 7ms/step - loss: 0.2457 - accuracy: 0.9072 - val_loss: 0.2818 - val_accuracy: 0.9020\n",
      "Epoch 78/100\n",
      "1500/1500 [==============================] - 10s 7ms/step - loss: 0.2454 - accuracy: 0.9066 - val_loss: 0.2864 - val_accuracy: 0.8940\n",
      "Epoch 79/100\n",
      "1500/1500 [==============================] - 10s 7ms/step - loss: 0.2485 - accuracy: 0.9068 - val_loss: 0.2887 - val_accuracy: 0.9000\n",
      "Epoch 80/100\n",
      "1500/1500 [==============================] - 10s 7ms/step - loss: 0.2541 - accuracy: 0.9072 - val_loss: 0.2736 - val_accuracy: 0.9025\n",
      "Epoch 81/100\n",
      "1500/1500 [==============================] - 10s 7ms/step - loss: 0.2408 - accuracy: 0.9108 - val_loss: 0.2753 - val_accuracy: 0.9043\n",
      "Epoch 82/100\n",
      "1500/1500 [==============================] - 10s 7ms/step - loss: 0.2429 - accuracy: 0.9085 - val_loss: 0.2920 - val_accuracy: 0.8952\n",
      "Epoch 83/100\n",
      "1500/1500 [==============================] - 10s 7ms/step - loss: 0.2438 - accuracy: 0.9074 - val_loss: 0.2928 - val_accuracy: 0.8917\n",
      "Epoch 84/100\n",
      "1500/1500 [==============================] - 10s 7ms/step - loss: 0.2415 - accuracy: 0.9098 - val_loss: 0.2807 - val_accuracy: 0.9003\n",
      "Epoch 85/100\n",
      "1500/1500 [==============================] - 10s 7ms/step - loss: 0.2459 - accuracy: 0.9089 - val_loss: 0.2877 - val_accuracy: 0.8973\n",
      "Epoch 86/100\n",
      "1500/1500 [==============================] - 10s 7ms/step - loss: 0.2408 - accuracy: 0.9098 - val_loss: 0.2774 - val_accuracy: 0.9019\n",
      "Epoch 87/100\n",
      "1500/1500 [==============================] - 10s 7ms/step - loss: 0.2683 - accuracy: 0.9041 - val_loss: 0.3063 - val_accuracy: 0.8944\n",
      "Epoch 88/100\n",
      "1500/1500 [==============================] - 10s 7ms/step - loss: 0.2489 - accuracy: 0.9067 - val_loss: 0.2929 - val_accuracy: 0.8921\n",
      "Epoch 89/100\n",
      "1500/1500 [==============================] - 11s 7ms/step - loss: 0.2411 - accuracy: 0.9099 - val_loss: 0.2942 - val_accuracy: 0.8965\n",
      "Epoch 90/100\n",
      "1500/1500 [==============================] - 10s 7ms/step - loss: 0.2383 - accuracy: 0.9129 - val_loss: 0.2786 - val_accuracy: 0.9035\n",
      "Epoch 91/100\n",
      "1500/1500 [==============================] - 10s 7ms/step - loss: 0.2438 - accuracy: 0.9075 - val_loss: 0.2741 - val_accuracy: 0.9020\n",
      "Epoch 92/100\n",
      "1500/1500 [==============================] - 10s 7ms/step - loss: 0.2451 - accuracy: 0.9086 - val_loss: 0.2897 - val_accuracy: 0.8972\n",
      "Epoch 93/100\n",
      "1500/1500 [==============================] - 11s 7ms/step - loss: 0.2411 - accuracy: 0.9103 - val_loss: 0.2921 - val_accuracy: 0.8992\n",
      "Epoch 94/100\n",
      "1500/1500 [==============================] - 11s 7ms/step - loss: 0.2389 - accuracy: 0.9095 - val_loss: 0.2827 - val_accuracy: 0.9015\n",
      "Epoch 95/100\n",
      "1500/1500 [==============================] - 11s 7ms/step - loss: 0.2367 - accuracy: 0.9121 - val_loss: 0.3273 - val_accuracy: 0.8826\n",
      "Epoch 96/100\n",
      "1500/1500 [==============================] - 10s 7ms/step - loss: 0.2424 - accuracy: 0.9104 - val_loss: 0.3063 - val_accuracy: 0.8927\n",
      "Epoch 97/100\n",
      "1500/1500 [==============================] - 11s 7ms/step - loss: 0.2373 - accuracy: 0.9112 - val_loss: 0.2988 - val_accuracy: 0.9007\n",
      "Epoch 98/100\n",
      "1500/1500 [==============================] - 11s 7ms/step - loss: 0.2375 - accuracy: 0.9121 - val_loss: 0.2828 - val_accuracy: 0.9007\n",
      "Epoch 99/100\n",
      "1500/1500 [==============================] - 11s 7ms/step - loss: 0.2381 - accuracy: 0.9096 - val_loss: 0.2928 - val_accuracy: 0.8987\n",
      "Epoch 100/100\n",
      "1500/1500 [==============================] - 11s 7ms/step - loss: 0.2463 - accuracy: 0.9101 - val_loss: 0.2861 - val_accuracy: 0.9002\n"
     ]
    }
   ],
   "source": [
    "# Train the model on the training data\n",
    "history = CNN_model.fit(x=X_train, \n",
    "            y=y_train, \n",
    "            epochs=100, \n",
    "            validation_data=(X_valid, y_valid), \n",
    "            callbacks=[tensorboard_callback])"
   ]
  },
  {
   "cell_type": "markdown",
   "id": "fb97fc2e",
   "metadata": {},
   "source": [
    "## Step 8: Evaluating the Model"
   ]
  },
  {
   "cell_type": "code",
   "execution_count": null,
   "metadata": {
    "id": "ZAvRr45NHpYH"
   },
   "outputs": [],
   "source": [
    "# Assess the model's performance on the test data\n",
    "score = CNN_model.evaluate(x=X_test, y=y_test, verbose=0)"
   ]
  },
  {
   "cell_type": "code",
   "execution_count": null,
   "metadata": {
    "colab": {
     "base_uri": "https://localhost:8080/"
    },
    "id": "DEJONY3CDd5V",
    "outputId": "2d6aedbc-6007-4fee-b9a1-b9d5cdd10a18"
   },
   "outputs": [
    {
     "name": "stdout",
     "output_type": "stream",
     "text": [
      "The loss on the test set is 0.29949358105659485\n",
      "The accuracy on the test set is 0.8949999809265137\n"
     ]
    }
   ],
   "source": [
    "print(\"The loss on the test set is {}\".format(score[0]))\n",
    "print(\"The accuracy on the test set is {}\".format(score[1]))"
   ]
  }
 ],
 "metadata": {
  "accelerator": "GPU",
  "colab": {
   "collapsed_sections": [],
   "name": "Image Classification on Fashion MNIST with TensorFlow and TensorBoard .ipynb",
   "provenance": [],
   "toc_visible": true
  },
  "kernelspec": {
   "display_name": "Python 3",
   "name": "python3"
  },
  "language_info": {
   "name": "python",
   "version": "3.10.8"
  }
 },
 "nbformat": 4,
 "nbformat_minor": 0
}
